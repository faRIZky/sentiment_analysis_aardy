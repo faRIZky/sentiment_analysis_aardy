{
  "nbformat": 4,
  "nbformat_minor": 0,
  "metadata": {
    "colab": {
      "provenance": []
    },
    "kernelspec": {
      "name": "python3",
      "display_name": "Python 3"
    },
    "language_info": {
      "name": "python"
    }
  },
  "cells": [
    {
      "cell_type": "markdown",
      "source": [
        "- Achmad Fariz Rizky Yanuar\n",
        "- 03achmadfariz@gmail.com\n",
        "- Universitas Sriwijaya"
      ],
      "metadata": {
        "id": "aL1b8prb-tjr"
      }
    },
    {
      "cell_type": "markdown",
      "source": [
        "## Informasi Data"
      ],
      "metadata": {
        "id": "bMsqidMC_4M4"
      }
    },
    {
      "cell_type": "markdown",
      "source": [
        "- Scrapping data review untuk aardy.com di trustpilot menggunakan library Selenium\n",
        "- https://www.trustpilot.com/review/aardy.com\n",
        "- Jumlah data: 18122\n",
        "\n",
        "AARDY.com adalah platform untuk membandingkan dan membeli asuransi perjalanan dari berbagai penyedia. Mereka membantu menemukan polis dengan harga terbaik dan menyediakan ulasan serta peringkat untuk mempermudah perbandingan."
      ],
      "metadata": {
        "id": "VMJYcq28_Fzy"
      }
    },
    {
      "cell_type": "markdown",
      "source": [
        "## Import Library"
      ],
      "metadata": {
        "id": "Lpqx2QzWqQTc"
      }
    },
    {
      "cell_type": "code",
      "source": [
        "import pandas as pd\n",
        "import numpy as np\n",
        "import string\n",
        "import re\n",
        "import nltk\n",
        "from nltk.corpus import stopwords\n",
        "from nltk.stem import WordNetLemmatizer\n",
        "from nltk.sentiment.vader import SentimentIntensityAnalyzer\n",
        "from sklearn.model_selection import train_test_split\n",
        "from sklearn.feature_extraction.text import TfidfVectorizer, CountVectorizer\n",
        "from sklearn.linear_model import LogisticRegression\n",
        "from sklearn.metrics import classification_report\n",
        "from sklearn.preprocessing import LabelEncoder\n",
        "from keras.utils import to_categorical\n",
        "from keras.models import Sequential\n",
        "from keras.layers import Dense, Dropout\n",
        "import tensorflow as tf\n",
        "from imblearn.over_sampling import RandomOverSampler\n",
        "import joblib\n",
        "import warnings\n",
        "warnings.filterwarnings(\"ignore\")"
      ],
      "metadata": {
        "id": "LJFrRP9KpKk-"
      },
      "execution_count": 23,
      "outputs": []
    },
    {
      "cell_type": "markdown",
      "source": [
        "## Load Data"
      ],
      "metadata": {
        "id": "5uYuYQgyqU2p"
      }
    },
    {
      "cell_type": "code",
      "execution_count": 34,
      "metadata": {
        "id": "JDnOgvRVuyhB"
      },
      "outputs": [],
      "source": [
        "df = pd.read_csv('aardy_reviews_clean.csv')\n",
        "df.dropna(subset=['content'], inplace=True)"
      ]
    },
    {
      "cell_type": "markdown",
      "source": [
        "## Exploratory Data Analysis (EDA)"
      ],
      "metadata": {
        "id": "SYnfYw78AJU5"
      }
    },
    {
      "cell_type": "code",
      "source": [
        "print(f\"Jumlah data: {len(df)}\")"
      ],
      "metadata": {
        "colab": {
          "base_uri": "https://localhost:8080/"
        },
        "id": "C3sBNJMlAE0m",
        "outputId": "1d6993ee-8fbd-40d7-e5f2-699d6a989802"
      },
      "execution_count": 35,
      "outputs": [
        {
          "output_type": "stream",
          "name": "stdout",
          "text": [
            "Jumlah data: 18122\n"
          ]
        }
      ]
    },
    {
      "cell_type": "markdown",
      "source": [
        "Terdapat 18.122 samples yang digunakan."
      ],
      "metadata": {
        "id": "mGAq_6-tATEX"
      }
    },
    {
      "cell_type": "code",
      "source": [
        "df.head()"
      ],
      "metadata": {
        "colab": {
          "base_uri": "https://localhost:8080/",
          "height": 206
        },
        "id": "vcFnyMpe1BtF",
        "outputId": "d61637a6-7c34-44f7-fb0b-ee2f30ac4211"
      },
      "execution_count": 33,
      "outputs": [
        {
          "output_type": "execute_result",
          "data": {
            "text/plain": [
              "                                     title  \\\n",
              "0           Christianna Jeffries was great   \n",
              "1  My daily experience is Hotmart website…   \n",
              "3                        Excellent Service   \n",
              "4                     Great representative   \n",
              "5                Melanie was very helpful.   \n",
              "\n",
              "                                             content  \n",
              "0  Christianna Jeffries was great. So helpful and...  \n",
              "1  My daily experience is Hotmart website scam my...  \n",
              "3  Melanie was an extremely helpful agent in assi...  \n",
              "4  Great representative, very personable and very...  \n",
              "5  Melanie was very helpful.. she got me all set ...  "
            ],
            "text/html": [
              "\n",
              "  <div id=\"df-2eef4551-be2c-40c2-a958-1726fe9ca90a\" class=\"colab-df-container\">\n",
              "    <div>\n",
              "<style scoped>\n",
              "    .dataframe tbody tr th:only-of-type {\n",
              "        vertical-align: middle;\n",
              "    }\n",
              "\n",
              "    .dataframe tbody tr th {\n",
              "        vertical-align: top;\n",
              "    }\n",
              "\n",
              "    .dataframe thead th {\n",
              "        text-align: right;\n",
              "    }\n",
              "</style>\n",
              "<table border=\"1\" class=\"dataframe\">\n",
              "  <thead>\n",
              "    <tr style=\"text-align: right;\">\n",
              "      <th></th>\n",
              "      <th>title</th>\n",
              "      <th>content</th>\n",
              "    </tr>\n",
              "  </thead>\n",
              "  <tbody>\n",
              "    <tr>\n",
              "      <th>0</th>\n",
              "      <td>Christianna Jeffries was great</td>\n",
              "      <td>Christianna Jeffries was great. So helpful and...</td>\n",
              "    </tr>\n",
              "    <tr>\n",
              "      <th>1</th>\n",
              "      <td>My daily experience is Hotmart website…</td>\n",
              "      <td>My daily experience is Hotmart website scam my...</td>\n",
              "    </tr>\n",
              "    <tr>\n",
              "      <th>3</th>\n",
              "      <td>Excellent Service</td>\n",
              "      <td>Melanie was an extremely helpful agent in assi...</td>\n",
              "    </tr>\n",
              "    <tr>\n",
              "      <th>4</th>\n",
              "      <td>Great representative</td>\n",
              "      <td>Great representative, very personable and very...</td>\n",
              "    </tr>\n",
              "    <tr>\n",
              "      <th>5</th>\n",
              "      <td>Melanie was very helpful.</td>\n",
              "      <td>Melanie was very helpful.. she got me all set ...</td>\n",
              "    </tr>\n",
              "  </tbody>\n",
              "</table>\n",
              "</div>\n",
              "    <div class=\"colab-df-buttons\">\n",
              "\n",
              "  <div class=\"colab-df-container\">\n",
              "    <button class=\"colab-df-convert\" onclick=\"convertToInteractive('df-2eef4551-be2c-40c2-a958-1726fe9ca90a')\"\n",
              "            title=\"Convert this dataframe to an interactive table.\"\n",
              "            style=\"display:none;\">\n",
              "\n",
              "  <svg xmlns=\"http://www.w3.org/2000/svg\" height=\"24px\" viewBox=\"0 -960 960 960\">\n",
              "    <path d=\"M120-120v-720h720v720H120Zm60-500h600v-160H180v160Zm220 220h160v-160H400v160Zm0 220h160v-160H400v160ZM180-400h160v-160H180v160Zm440 0h160v-160H620v160ZM180-180h160v-160H180v160Zm440 0h160v-160H620v160Z\"/>\n",
              "  </svg>\n",
              "    </button>\n",
              "\n",
              "  <style>\n",
              "    .colab-df-container {\n",
              "      display:flex;\n",
              "      gap: 12px;\n",
              "    }\n",
              "\n",
              "    .colab-df-convert {\n",
              "      background-color: #E8F0FE;\n",
              "      border: none;\n",
              "      border-radius: 50%;\n",
              "      cursor: pointer;\n",
              "      display: none;\n",
              "      fill: #1967D2;\n",
              "      height: 32px;\n",
              "      padding: 0 0 0 0;\n",
              "      width: 32px;\n",
              "    }\n",
              "\n",
              "    .colab-df-convert:hover {\n",
              "      background-color: #E2EBFA;\n",
              "      box-shadow: 0px 1px 2px rgba(60, 64, 67, 0.3), 0px 1px 3px 1px rgba(60, 64, 67, 0.15);\n",
              "      fill: #174EA6;\n",
              "    }\n",
              "\n",
              "    .colab-df-buttons div {\n",
              "      margin-bottom: 4px;\n",
              "    }\n",
              "\n",
              "    [theme=dark] .colab-df-convert {\n",
              "      background-color: #3B4455;\n",
              "      fill: #D2E3FC;\n",
              "    }\n",
              "\n",
              "    [theme=dark] .colab-df-convert:hover {\n",
              "      background-color: #434B5C;\n",
              "      box-shadow: 0px 1px 3px 1px rgba(0, 0, 0, 0.15);\n",
              "      filter: drop-shadow(0px 1px 2px rgba(0, 0, 0, 0.3));\n",
              "      fill: #FFFFFF;\n",
              "    }\n",
              "  </style>\n",
              "\n",
              "    <script>\n",
              "      const buttonEl =\n",
              "        document.querySelector('#df-2eef4551-be2c-40c2-a958-1726fe9ca90a button.colab-df-convert');\n",
              "      buttonEl.style.display =\n",
              "        google.colab.kernel.accessAllowed ? 'block' : 'none';\n",
              "\n",
              "      async function convertToInteractive(key) {\n",
              "        const element = document.querySelector('#df-2eef4551-be2c-40c2-a958-1726fe9ca90a');\n",
              "        const dataTable =\n",
              "          await google.colab.kernel.invokeFunction('convertToInteractive',\n",
              "                                                    [key], {});\n",
              "        if (!dataTable) return;\n",
              "\n",
              "        const docLinkHtml = 'Like what you see? Visit the ' +\n",
              "          '<a target=\"_blank\" href=https://colab.research.google.com/notebooks/data_table.ipynb>data table notebook</a>'\n",
              "          + ' to learn more about interactive tables.';\n",
              "        element.innerHTML = '';\n",
              "        dataTable['output_type'] = 'display_data';\n",
              "        await google.colab.output.renderOutput(dataTable, element);\n",
              "        const docLink = document.createElement('div');\n",
              "        docLink.innerHTML = docLinkHtml;\n",
              "        element.appendChild(docLink);\n",
              "      }\n",
              "    </script>\n",
              "  </div>\n",
              "\n",
              "\n",
              "<div id=\"df-1e4274d2-af7d-4f55-a1f4-92b79e164c04\">\n",
              "  <button class=\"colab-df-quickchart\" onclick=\"quickchart('df-1e4274d2-af7d-4f55-a1f4-92b79e164c04')\"\n",
              "            title=\"Suggest charts\"\n",
              "            style=\"display:none;\">\n",
              "\n",
              "<svg xmlns=\"http://www.w3.org/2000/svg\" height=\"24px\"viewBox=\"0 0 24 24\"\n",
              "     width=\"24px\">\n",
              "    <g>\n",
              "        <path d=\"M19 3H5c-1.1 0-2 .9-2 2v14c0 1.1.9 2 2 2h14c1.1 0 2-.9 2-2V5c0-1.1-.9-2-2-2zM9 17H7v-7h2v7zm4 0h-2V7h2v10zm4 0h-2v-4h2v4z\"/>\n",
              "    </g>\n",
              "</svg>\n",
              "  </button>\n",
              "\n",
              "<style>\n",
              "  .colab-df-quickchart {\n",
              "      --bg-color: #E8F0FE;\n",
              "      --fill-color: #1967D2;\n",
              "      --hover-bg-color: #E2EBFA;\n",
              "      --hover-fill-color: #174EA6;\n",
              "      --disabled-fill-color: #AAA;\n",
              "      --disabled-bg-color: #DDD;\n",
              "  }\n",
              "\n",
              "  [theme=dark] .colab-df-quickchart {\n",
              "      --bg-color: #3B4455;\n",
              "      --fill-color: #D2E3FC;\n",
              "      --hover-bg-color: #434B5C;\n",
              "      --hover-fill-color: #FFFFFF;\n",
              "      --disabled-bg-color: #3B4455;\n",
              "      --disabled-fill-color: #666;\n",
              "  }\n",
              "\n",
              "  .colab-df-quickchart {\n",
              "    background-color: var(--bg-color);\n",
              "    border: none;\n",
              "    border-radius: 50%;\n",
              "    cursor: pointer;\n",
              "    display: none;\n",
              "    fill: var(--fill-color);\n",
              "    height: 32px;\n",
              "    padding: 0;\n",
              "    width: 32px;\n",
              "  }\n",
              "\n",
              "  .colab-df-quickchart:hover {\n",
              "    background-color: var(--hover-bg-color);\n",
              "    box-shadow: 0 1px 2px rgba(60, 64, 67, 0.3), 0 1px 3px 1px rgba(60, 64, 67, 0.15);\n",
              "    fill: var(--button-hover-fill-color);\n",
              "  }\n",
              "\n",
              "  .colab-df-quickchart-complete:disabled,\n",
              "  .colab-df-quickchart-complete:disabled:hover {\n",
              "    background-color: var(--disabled-bg-color);\n",
              "    fill: var(--disabled-fill-color);\n",
              "    box-shadow: none;\n",
              "  }\n",
              "\n",
              "  .colab-df-spinner {\n",
              "    border: 2px solid var(--fill-color);\n",
              "    border-color: transparent;\n",
              "    border-bottom-color: var(--fill-color);\n",
              "    animation:\n",
              "      spin 1s steps(1) infinite;\n",
              "  }\n",
              "\n",
              "  @keyframes spin {\n",
              "    0% {\n",
              "      border-color: transparent;\n",
              "      border-bottom-color: var(--fill-color);\n",
              "      border-left-color: var(--fill-color);\n",
              "    }\n",
              "    20% {\n",
              "      border-color: transparent;\n",
              "      border-left-color: var(--fill-color);\n",
              "      border-top-color: var(--fill-color);\n",
              "    }\n",
              "    30% {\n",
              "      border-color: transparent;\n",
              "      border-left-color: var(--fill-color);\n",
              "      border-top-color: var(--fill-color);\n",
              "      border-right-color: var(--fill-color);\n",
              "    }\n",
              "    40% {\n",
              "      border-color: transparent;\n",
              "      border-right-color: var(--fill-color);\n",
              "      border-top-color: var(--fill-color);\n",
              "    }\n",
              "    60% {\n",
              "      border-color: transparent;\n",
              "      border-right-color: var(--fill-color);\n",
              "    }\n",
              "    80% {\n",
              "      border-color: transparent;\n",
              "      border-right-color: var(--fill-color);\n",
              "      border-bottom-color: var(--fill-color);\n",
              "    }\n",
              "    90% {\n",
              "      border-color: transparent;\n",
              "      border-bottom-color: var(--fill-color);\n",
              "    }\n",
              "  }\n",
              "</style>\n",
              "\n",
              "  <script>\n",
              "    async function quickchart(key) {\n",
              "      const quickchartButtonEl =\n",
              "        document.querySelector('#' + key + ' button');\n",
              "      quickchartButtonEl.disabled = true;  // To prevent multiple clicks.\n",
              "      quickchartButtonEl.classList.add('colab-df-spinner');\n",
              "      try {\n",
              "        const charts = await google.colab.kernel.invokeFunction(\n",
              "            'suggestCharts', [key], {});\n",
              "      } catch (error) {\n",
              "        console.error('Error during call to suggestCharts:', error);\n",
              "      }\n",
              "      quickchartButtonEl.classList.remove('colab-df-spinner');\n",
              "      quickchartButtonEl.classList.add('colab-df-quickchart-complete');\n",
              "    }\n",
              "    (() => {\n",
              "      let quickchartButtonEl =\n",
              "        document.querySelector('#df-1e4274d2-af7d-4f55-a1f4-92b79e164c04 button');\n",
              "      quickchartButtonEl.style.display =\n",
              "        google.colab.kernel.accessAllowed ? 'block' : 'none';\n",
              "    })();\n",
              "  </script>\n",
              "</div>\n",
              "\n",
              "    </div>\n",
              "  </div>\n"
            ],
            "application/vnd.google.colaboratory.intrinsic+json": {
              "type": "dataframe",
              "variable_name": "df",
              "summary": "{\n  \"name\": \"df\",\n  \"rows\": 18122,\n  \"fields\": [\n    {\n      \"column\": \"title\",\n      \"properties\": {\n        \"dtype\": \"string\",\n        \"num_unique_values\": 14810,\n        \"samples\": [\n          \"The Aardy representative\",\n          \"Safe & secure\",\n          \"Destiny was very helpful and thorough\"\n        ],\n        \"semantic_type\": \"\",\n        \"description\": \"\"\n      }\n    },\n    {\n      \"column\": \"content\",\n      \"properties\": {\n        \"dtype\": \"string\",\n        \"num_unique_values\": 18057,\n        \"samples\": [\n          \"Website very informative and easy to use.\",\n          \"I recently purchased travel insurance, I was so impressed with the representatives, very courteous and knowledgeable.\\nI will be using this service in the future for any other travel plans. The great pricing was a bonus\\u2026\",\n          \"Miranda was great - efficient and quick!\"\n        ],\n        \"semantic_type\": \"\",\n        \"description\": \"\"\n      }\n    }\n  ]\n}"
            }
          },
          "metadata": {},
          "execution_count": 33
        }
      ]
    },
    {
      "cell_type": "markdown",
      "source": [
        "Featurenya terdiri dari `title` dan `content`. Feature `title` merujuk pada judul review dan feature `content` merujuk pada review yang diberikan oleh pengguna."
      ],
      "metadata": {
        "id": "6m3HyvmqAYpC"
      }
    },
    {
      "cell_type": "markdown",
      "source": [
        "## Data Labelling"
      ],
      "metadata": {
        "id": "StwI5WV-qwG8"
      }
    },
    {
      "cell_type": "code",
      "source": [
        "nltk.download('vader_lexicon')\n",
        "sia = SentimentIntensityAnalyzer()\n",
        "def get_sentiment(text):\n",
        "    score = sia.polarity_scores(str(text))['compound']\n",
        "    if score >= 0.05:\n",
        "        return \"positive\"\n",
        "    elif score <= -0.05:\n",
        "        return \"negative\"\n",
        "    else:\n",
        "        return \"neutral\"\n",
        "df['sentiment'] = df['content'].apply(get_sentiment)"
      ],
      "metadata": {
        "colab": {
          "base_uri": "https://localhost:8080/"
        },
        "id": "5S9UY2Nupq92",
        "outputId": "5a8f4599-6a66-4342-89f0-31fed8096866"
      },
      "execution_count": 36,
      "outputs": [
        {
          "output_type": "stream",
          "name": "stderr",
          "text": [
            "[nltk_data] Downloading package vader_lexicon to /root/nltk_data...\n",
            "[nltk_data]   Package vader_lexicon is already up-to-date!\n"
          ]
        }
      ]
    },
    {
      "cell_type": "markdown",
      "source": [
        "Kita akan menggunakan VADER untuk melakukan pelabelan pada sentiment yang ada. Pelabelan dilakukan berdasarkan bobot yang telah ditentukan. Label berupa `positive`, `negative`, dan `neutral`."
      ],
      "metadata": {
        "id": "k16xzMCtAwOb"
      }
    },
    {
      "cell_type": "code",
      "source": [
        "df['sentiment'].value_counts()"
      ],
      "metadata": {
        "colab": {
          "base_uri": "https://localhost:8080/",
          "height": 210
        },
        "id": "2zQX_QKABKJF",
        "outputId": "d11c964a-7cf2-4e97-de74-4eb74f1a2940"
      },
      "execution_count": 37,
      "outputs": [
        {
          "output_type": "execute_result",
          "data": {
            "text/plain": [
              "sentiment\n",
              "positive    16570\n",
              "neutral      1240\n",
              "negative      312\n",
              "Name: count, dtype: int64"
            ],
            "text/html": [
              "<div>\n",
              "<style scoped>\n",
              "    .dataframe tbody tr th:only-of-type {\n",
              "        vertical-align: middle;\n",
              "    }\n",
              "\n",
              "    .dataframe tbody tr th {\n",
              "        vertical-align: top;\n",
              "    }\n",
              "\n",
              "    .dataframe thead th {\n",
              "        text-align: right;\n",
              "    }\n",
              "</style>\n",
              "<table border=\"1\" class=\"dataframe\">\n",
              "  <thead>\n",
              "    <tr style=\"text-align: right;\">\n",
              "      <th></th>\n",
              "      <th>count</th>\n",
              "    </tr>\n",
              "    <tr>\n",
              "      <th>sentiment</th>\n",
              "      <th></th>\n",
              "    </tr>\n",
              "  </thead>\n",
              "  <tbody>\n",
              "    <tr>\n",
              "      <th>positive</th>\n",
              "      <td>16570</td>\n",
              "    </tr>\n",
              "    <tr>\n",
              "      <th>neutral</th>\n",
              "      <td>1240</td>\n",
              "    </tr>\n",
              "    <tr>\n",
              "      <th>negative</th>\n",
              "      <td>312</td>\n",
              "    </tr>\n",
              "  </tbody>\n",
              "</table>\n",
              "</div><br><label><b>dtype:</b> int64</label>"
            ]
          },
          "metadata": {},
          "execution_count": 37
        }
      ]
    },
    {
      "cell_type": "markdown",
      "source": [
        "Terdapat 16570 sentiment `positive`, 1240 sentiment `neutral`, dan 312 sentiment `negative`."
      ],
      "metadata": {
        "id": "NjWaXbkpBNde"
      }
    },
    {
      "cell_type": "code",
      "source": [
        "df.isnull().sum()"
      ],
      "metadata": {
        "colab": {
          "base_uri": "https://localhost:8080/",
          "height": 178
        },
        "id": "fhcUxJhNSPS-",
        "outputId": "4e092511-2d3e-405b-f857-829a85be0f5b"
      },
      "execution_count": 47,
      "outputs": [
        {
          "output_type": "execute_result",
          "data": {
            "text/plain": [
              "title        0\n",
              "content      0\n",
              "sentiment    0\n",
              "dtype: int64"
            ],
            "text/html": [
              "<div>\n",
              "<style scoped>\n",
              "    .dataframe tbody tr th:only-of-type {\n",
              "        vertical-align: middle;\n",
              "    }\n",
              "\n",
              "    .dataframe tbody tr th {\n",
              "        vertical-align: top;\n",
              "    }\n",
              "\n",
              "    .dataframe thead th {\n",
              "        text-align: right;\n",
              "    }\n",
              "</style>\n",
              "<table border=\"1\" class=\"dataframe\">\n",
              "  <thead>\n",
              "    <tr style=\"text-align: right;\">\n",
              "      <th></th>\n",
              "      <th>0</th>\n",
              "    </tr>\n",
              "  </thead>\n",
              "  <tbody>\n",
              "    <tr>\n",
              "      <th>title</th>\n",
              "      <td>0</td>\n",
              "    </tr>\n",
              "    <tr>\n",
              "      <th>content</th>\n",
              "      <td>0</td>\n",
              "    </tr>\n",
              "    <tr>\n",
              "      <th>sentiment</th>\n",
              "      <td>0</td>\n",
              "    </tr>\n",
              "  </tbody>\n",
              "</table>\n",
              "</div><br><label><b>dtype:</b> int64</label>"
            ]
          },
          "metadata": {},
          "execution_count": 47
        }
      ]
    },
    {
      "cell_type": "markdown",
      "source": [
        "Tidak ditemukan null values"
      ],
      "metadata": {
        "id": "HNB-GF_cSSuk"
      }
    },
    {
      "cell_type": "markdown",
      "source": [
        "## Preprocessing"
      ],
      "metadata": {
        "id": "d68IID4sq2um"
      }
    },
    {
      "cell_type": "code",
      "source": [
        "nltk.download('stopwords')\n",
        "nltk.download('wordnet')\n",
        "stop_words = set(stopwords.words('english'))\n",
        "lemmatizer = WordNetLemmatizer()\n",
        "\n",
        "def clean_text(text):\n",
        "    text = text.lower()\n",
        "    text = re.sub(r\"http\\S+|www\\S+\", '', text)\n",
        "    text = text.translate(str.maketrans('', '', string.punctuation))\n",
        "    text = re.sub(r'\\d+', '', text)\n",
        "    words = text.split()\n",
        "    words = [lemmatizer.lemmatize(w) for w in words if w not in stop_words]\n",
        "    return ' '.join(words)\n",
        "\n",
        "df['content_clean'] = df['content'].apply(clean_text)"
      ],
      "metadata": {
        "colab": {
          "base_uri": "https://localhost:8080/"
        },
        "id": "8Y0cNQAuqyst",
        "outputId": "54a444f3-012d-44c5-aa44-14f241c2b34f"
      },
      "execution_count": 13,
      "outputs": [
        {
          "output_type": "stream",
          "name": "stderr",
          "text": [
            "[nltk_data] Downloading package stopwords to /root/nltk_data...\n",
            "[nltk_data]   Unzipping corpora/stopwords.zip.\n",
            "[nltk_data] Downloading package wordnet to /root/nltk_data...\n"
          ]
        }
      ]
    },
    {
      "cell_type": "markdown",
      "source": [
        "- Mengubah semua huruf ke huruf kecil (lower()).\n",
        "\n",
        "- Menghapus URL menggunakan regex.\n",
        "\n",
        "- Menghapus tanda baca (seperti titik, koma, tanda seru, dll).\n",
        "\n",
        "- Menghapus angka dari teks.\n",
        "\n",
        "- Memecah teks jadi kata-kata (tokenisasi sederhana pakai split()).\n",
        "\n",
        "- Menghapus stop words.\n",
        "\n",
        "- Lemmatization (mengubah kata ke bentuk dasarnya)."
      ],
      "metadata": {
        "id": "aGVWMxf0KBnj"
      }
    },
    {
      "cell_type": "markdown",
      "source": [
        "## Split Data"
      ],
      "metadata": {
        "id": "d7CU8KdOq5mX"
      }
    },
    {
      "cell_type": "code",
      "source": [
        "X = df['content_clean']\n",
        "y = df['sentiment']\n",
        "X_train, X_test, y_train, y_test = train_test_split(X, y, stratify=y, test_size=0.2, random_state=42)"
      ],
      "metadata": {
        "id": "-SEmBrbEq41I"
      },
      "execution_count": 14,
      "outputs": []
    },
    {
      "cell_type": "markdown",
      "source": [
        "split datanya 80% training data dan 20% testing data"
      ],
      "metadata": {
        "id": "RwhcsmtgKdFg"
      }
    },
    {
      "cell_type": "markdown",
      "source": [
        "## Oversampling"
      ],
      "metadata": {
        "id": "DrT1Dns3q9gG"
      }
    },
    {
      "cell_type": "code",
      "source": [
        "ros = RandomOverSampler(random_state=42)\n",
        "X_train_df = X_train.to_frame()\n",
        "X_resampled, y_resampled = ros.fit_resample(X_train_df, y_train)\n",
        "X_resampled = X_resampled['content_clean']"
      ],
      "metadata": {
        "id": "8TM7JXSBq8TT"
      },
      "execution_count": 15,
      "outputs": []
    },
    {
      "cell_type": "markdown",
      "source": [
        "Karena data latih memiliki ketidakseimbangan antara jumlah sampel di tiap kelas, digunakan teknik oversampling dengan RandomOverSampler untuk menyeimbangkan distribusi kelas. Teknik ini bekerja dengan menggandakan data dari kelas minoritas sehingga jumlahnya seimbang dengan kelas mayoritas."
      ],
      "metadata": {
        "id": "JRGd5b4ZK5KI"
      }
    },
    {
      "cell_type": "markdown",
      "source": [
        "## Ekstraksi Fitur dan Pemodelan"
      ],
      "metadata": {
        "id": "TuHfuHcRrE88"
      }
    },
    {
      "cell_type": "markdown",
      "source": [
        "Terdapat 3 skema:\n",
        "1. TF-IDF + LR (80/20)\n",
        "2. TF-IDF + Dense Layer (MLP) (80/20)\n",
        "3. CountVectorizer + LR (70/30)"
      ],
      "metadata": {
        "id": "YB-8Tv54LI7u"
      }
    },
    {
      "cell_type": "markdown",
      "source": [
        "### Skema 1: TF-IDF + Logistic Regression"
      ],
      "metadata": {
        "id": "yKKVlNJCrIqu"
      }
    },
    {
      "cell_type": "code",
      "source": [
        "## Skema 1: TF-IDF + Logistic Regression\n",
        "print(\"Skema 1: TF-IDF + Logistic Regression (Split 80/20)\")\n",
        "tfidf = TfidfVectorizer()\n",
        "X_train_tfidf = tfidf.fit_transform(X_resampled)\n",
        "X_test_tfidf = tfidf.transform(X_test)\n",
        "\n",
        "model_lr = LogisticRegression(max_iter=1000)\n",
        "model_lr.fit(X_train_tfidf, y_resampled)\n",
        "\n",
        "print(\"Training - TF-IDF + Logistic Regression\")\n",
        "print(classification_report(y_resampled, model_lr.predict(X_train_tfidf)))\n",
        "\n",
        "print(\"Testing - TF-IDF + Logistic Regression\")\n",
        "print(classification_report(y_test, model_lr.predict(X_test_tfidf)))\n",
        "\n",
        "## Simpan model TF-IDF Logistic Regression sebagai Keras model\n",
        "logistic_model_keras = tf.keras.Sequential([\n",
        "    tf.keras.layers.InputLayer(input_shape=(X_train_tfidf.shape[1],)),\n",
        "    tf.keras.layers.Dense(3, activation='softmax', use_bias=True,\n",
        "        kernel_initializer=tf.constant_initializer(model_lr.coef_.T),\n",
        "        bias_initializer=tf.constant_initializer(model_lr.intercept_))\n",
        "])\n",
        "logistic_model_keras.save('model_logistic_regression.h5')"
      ],
      "metadata": {
        "colab": {
          "base_uri": "https://localhost:8080/"
        },
        "id": "EuU6cK3XrBZr",
        "outputId": "5e983b3c-40be-4d6b-ca6c-7fe601de93ba"
      },
      "execution_count": 28,
      "outputs": [
        {
          "output_type": "stream",
          "name": "stdout",
          "text": [
            "Skema 1: TF-IDF + Logistic Regression (Split 80/20)\n",
            "Training - TF-IDF + Logistic Regression\n"
          ]
        },
        {
          "output_type": "stream",
          "name": "stderr",
          "text": [
            "WARNING:absl:You are saving your model as an HDF5 file via `model.save()` or `keras.saving.save_model(model)`. This file format is considered legacy. We recommend using instead the native Keras format, e.g. `model.save('my_model.keras')` or `keras.saving.save_model(model, 'my_model.keras')`. \n"
          ]
        },
        {
          "output_type": "stream",
          "name": "stdout",
          "text": [
            "              precision    recall  f1-score   support\n",
            "\n",
            "    negative       0.99      1.00      0.99     13255\n",
            "     neutral       0.98      0.99      0.99     13255\n",
            "    positive       0.99      0.97      0.98     13255\n",
            "\n",
            "    accuracy                           0.99     39765\n",
            "   macro avg       0.99      0.99      0.99     39765\n",
            "weighted avg       0.99      0.99      0.99     39765\n",
            "\n",
            "Testing - TF-IDF + Logistic Regression\n",
            "              precision    recall  f1-score   support\n",
            "\n",
            "    negative       0.30      0.39      0.34        62\n",
            "     neutral       0.61      0.93      0.74       248\n",
            "    positive       0.99      0.95      0.97      3315\n",
            "\n",
            "    accuracy                           0.94      3625\n",
            "   macro avg       0.64      0.76      0.68      3625\n",
            "weighted avg       0.95      0.94      0.94      3625\n",
            "\n"
          ]
        }
      ]
    },
    {
      "cell_type": "markdown",
      "source": [
        "Pada proses pelatihan dengan skema TF-IDF + Logistic Regression (split 80/20), model menunjukkan performa yang sangat baik dengan akurasi sebesar 99%. Precision, recall, dan f1-score di ketiga kelas (negative, neutral, positive) juga sangat tinggi dan seimbang, yang menunjukkan bahwa model mampu mengenali pola data latih dengan sangat baik. Hal ini menandakan model berhasil belajar dari data training tanpa kesulitan berarti.\n",
        "\n",
        "Namun, saat diuji pada data testing, performa model menurun secara signifikan untuk kelas tertentu. Meskipun akurasi keseluruhan masih tinggi (94%), model tampak sangat dominan dalam mengenali kelas positif, tetapi kesulitan dalam mengenali kelas negatif, dengan precision hanya 0.30 dan f1-score sebesar 0.34. Hal ini menunjukkan bahwa model belum mampu melakukan generalisasi dengan baik pada kelas minoritas, kemungkinan besar akibat ketidakseimbangan data."
      ],
      "metadata": {
        "id": "jVt7tdeHL-dQ"
      }
    },
    {
      "cell_type": "markdown",
      "source": [
        "### Skema 2: TF-IDF + Dense Layer (MLP)"
      ],
      "metadata": {
        "id": "zj9iuuMprNkV"
      }
    },
    {
      "cell_type": "code",
      "source": [
        "## Skema 2: TF-IDF + Dense Layer (MLP)\n",
        "print(\"Skema 2: TF-IDF + Dense Layer (MLP) (Split 80/20)\")\n",
        "le = LabelEncoder()\n",
        "y_train_enc = le.fit_transform(y_resampled)\n",
        "y_test_enc = le.transform(y_test)\n",
        "\n",
        "X_train_arr = X_train_tfidf.toarray()\n",
        "X_test_arr = X_test_tfidf.toarray()\n",
        "y_train_cat = to_categorical(y_train_enc)\n",
        "y_test_cat = to_categorical(y_test_enc)\n",
        "\n",
        "model_dense = Sequential()\n",
        "model_dense.add(Dense(128, activation='relu', input_shape=(X_train_arr.shape[1],)))\n",
        "model_dense.add(Dense(64, activation='relu'))\n",
        "model_dense.add(Dense(3, activation='softmax'))\n",
        "model_dense.compile(optimizer='adam', loss='categorical_crossentropy', metrics=['accuracy'])\n",
        "model_dense.fit(X_train_arr, y_train_cat, epochs=5, batch_size=32, validation_split=0.1)\n",
        "\n",
        "print(\"Training - TF-IDF + Dense Layer\")\n",
        "y_pred_train = np.argmax(model_dense.predict(X_train_arr), axis=1)\n",
        "print(classification_report(y_train_enc, y_pred_train, target_names=le.classes_))\n",
        "\n",
        "print(\"Testing - TF-IDF + Dense Layer\")\n",
        "y_pred_test = np.argmax(model_dense.predict(X_test_arr), axis=1)\n",
        "print(classification_report(y_test_enc, y_pred_test, target_names=le.classes_))"
      ],
      "metadata": {
        "colab": {
          "base_uri": "https://localhost:8080/"
        },
        "id": "Z4r3dyGlrLP1",
        "outputId": "b164e0bb-8782-43d6-9528-e6711a28ac5b"
      },
      "execution_count": 27,
      "outputs": [
        {
          "output_type": "stream",
          "name": "stdout",
          "text": [
            "Skema 2: TF-IDF + Dense Layer (MLP) (Split 80/20)\n",
            "Epoch 1/5\n",
            "\u001b[1m1119/1119\u001b[0m \u001b[32m━━━━━━━━━━━━━━━━━━━━\u001b[0m\u001b[37m\u001b[0m \u001b[1m35s\u001b[0m 29ms/step - accuracy: 0.8768 - loss: 0.3243 - val_accuracy: 0.9872 - val_loss: 0.0518\n",
            "Epoch 2/5\n",
            "\u001b[1m1119/1119\u001b[0m \u001b[32m━━━━━━━━━━━━━━━━━━━━\u001b[0m\u001b[37m\u001b[0m \u001b[1m26s\u001b[0m 16ms/step - accuracy: 0.9976 - loss: 0.0090 - val_accuracy: 0.9990 - val_loss: 0.0070\n",
            "Epoch 3/5\n",
            "\u001b[1m1119/1119\u001b[0m \u001b[32m━━━━━━━━━━━━━━━━━━━━\u001b[0m\u001b[37m\u001b[0m \u001b[1m20s\u001b[0m 15ms/step - accuracy: 0.9995 - loss: 0.0022 - val_accuracy: 0.9990 - val_loss: 0.0021\n",
            "Epoch 4/5\n",
            "\u001b[1m1119/1119\u001b[0m \u001b[32m━━━━━━━━━━━━━━━━━━━━\u001b[0m\u001b[37m\u001b[0m \u001b[1m22s\u001b[0m 16ms/step - accuracy: 0.9995 - loss: 0.0016 - val_accuracy: 1.0000 - val_loss: 8.4940e-05\n",
            "Epoch 5/5\n",
            "\u001b[1m1119/1119\u001b[0m \u001b[32m━━━━━━━━━━━━━━━━━━━━\u001b[0m\u001b[37m\u001b[0m \u001b[1m17s\u001b[0m 15ms/step - accuracy: 0.9998 - loss: 7.4270e-04 - val_accuracy: 1.0000 - val_loss: 4.2672e-04\n",
            "Training - TF-IDF + Dense Layer\n",
            "\u001b[1m1243/1243\u001b[0m \u001b[32m━━━━━━━━━━━━━━━━━━━━\u001b[0m\u001b[37m\u001b[0m \u001b[1m5s\u001b[0m 4ms/step\n",
            "              precision    recall  f1-score   support\n",
            "\n",
            "    negative       1.00      1.00      1.00     13255\n",
            "     neutral       1.00      1.00      1.00     13255\n",
            "    positive       1.00      1.00      1.00     13255\n",
            "\n",
            "    accuracy                           1.00     39765\n",
            "   macro avg       1.00      1.00      1.00     39765\n",
            "weighted avg       1.00      1.00      1.00     39765\n",
            "\n",
            "Testing - TF-IDF + Dense Layer\n",
            "\u001b[1m114/114\u001b[0m \u001b[32m━━━━━━━━━━━━━━━━━━━━\u001b[0m\u001b[37m\u001b[0m \u001b[1m0s\u001b[0m 4ms/step\n",
            "              precision    recall  f1-score   support\n",
            "\n",
            "    negative       0.52      0.24      0.33        62\n",
            "     neutral       0.80      0.84      0.82       248\n",
            "    positive       0.98      0.98      0.98      3315\n",
            "\n",
            "    accuracy                           0.96      3625\n",
            "   macro avg       0.77      0.69      0.71      3625\n",
            "weighted avg       0.96      0.96      0.96      3625\n",
            "\n"
          ]
        }
      ]
    },
    {
      "cell_type": "markdown",
      "source": [
        "Model MLP yang dilatih menggunakan representasi TF-IDF menunjukkan performa yang baik selama pelatihan. Akurasi training mencapai hampir 100% hanya dalam 5 epoch, dan performa pada data validasi juga sangat tinggi dengan akurasi mencapai 100% di epoch terakhir. Hasil evaluasi pada data training pun mencerminkan hal ini, dengan precision, recall, dan f1-score sempurna (1.00) di semua kelas. Ini menunjukkan bahwa model sangat kuat dalam mengenali pola pada data latih.\n",
        "\n",
        "Namun, saat diuji pada data testing, performa model menunjukkan penurunan terutama pada kelas negatif. Meskipun akurasi keseluruhan masih sangat tinggi (96%) dan prediksi pada kelas positif tetap sangat baik (f1-score 0.98), f1-score untuk kelas negatif hanya mencapai 0.33. Hal ini mengindikasikan bahwa model overfitting terhadap data training dan kesulitan dalam melakukan generalisasi, khususnya pada kelas dengan jumlah data lebih sedikit atau yang kurang representatif di data pelatihan."
      ],
      "metadata": {
        "id": "hsHO9tL_MLfj"
      }
    },
    {
      "cell_type": "markdown",
      "source": [
        "### Skema 3: CountVectorizer + Logistic Regression (new data split 70/30)"
      ],
      "metadata": {
        "id": "m82XwhJOr4d0"
      }
    },
    {
      "cell_type": "code",
      "source": [
        "# Split data\n",
        "X_train_70, X_test_30, y_train_70, y_test_30 = train_test_split(\n",
        "    X, y, stratify=y, test_size=0.3, random_state=42\n",
        ")\n",
        "\n",
        "# Oversampling\n",
        "ros = RandomOverSampler(random_state=42)\n",
        "X_train_70_df = X_train_70.to_frame()\n",
        "X_resampled_70, y_resampled_70 = ros.fit_resample(X_train_70_df, y_train_70)\n",
        "X_resampled_70 = X_resampled_70['content_clean']\n",
        "\n",
        "# Vectorization\n",
        "count_vec_70 = CountVectorizer()\n",
        "X_train_count_70 = count_vec_70.fit_transform(X_resampled_70)\n",
        "X_test_count_30 = count_vec_70.transform(X_test_30)\n",
        "\n",
        "# Model training\n",
        "model_lr_count_70 = LogisticRegression(max_iter=1000)\n",
        "model_lr_count_70.fit(X_train_count_70, y_resampled_70)\n",
        "\n",
        "# Evaluation\n",
        "print(\"\\n[Training] CountVectorizer + Logistic Regression\")\n",
        "print(classification_report(y_resampled_70, model_lr_count_70.predict(X_train_count_70)))\n",
        "\n",
        "print(\"\\n[Testing] CountVectorizer + Logistic Regression\")\n",
        "print(classification_report(y_test_30, model_lr_count_70.predict(X_test_count_30)))\n",
        "\n",
        "# Simpan model dan vectorizer\n",
        "\n",
        "joblib.dump(model_lr_count_70, 'model_lr_count_70.pkl')\n",
        "joblib.dump(count_vec_70, 'count_vectorizer_70.pkl')"
      ],
      "metadata": {
        "colab": {
          "base_uri": "https://localhost:8080/"
        },
        "id": "7hHPZVfEymhY",
        "outputId": "46b0a155-d7d6-4ac8-bab1-d29fa8d40cba"
      },
      "execution_count": 24,
      "outputs": [
        {
          "output_type": "stream",
          "name": "stdout",
          "text": [
            "\n",
            "[Training] CountVectorizer + Logistic Regression\n",
            "              precision    recall  f1-score   support\n",
            "\n",
            "    negative       1.00      1.00      1.00     11599\n",
            "     neutral       0.99      1.00      1.00     11599\n",
            "    positive       1.00      0.99      0.99     11599\n",
            "\n",
            "    accuracy                           1.00     34797\n",
            "   macro avg       1.00      1.00      1.00     34797\n",
            "weighted avg       1.00      1.00      1.00     34797\n",
            "\n",
            "\n",
            "[Testing] CountVectorizer + Logistic Regression\n",
            "              precision    recall  f1-score   support\n",
            "\n",
            "    negative       0.40      0.38      0.39        94\n",
            "     neutral       0.69      0.93      0.79       372\n",
            "    positive       0.99      0.97      0.98      4971\n",
            "\n",
            "    accuracy                           0.95      5437\n",
            "   macro avg       0.69      0.76      0.72      5437\n",
            "weighted avg       0.96      0.95      0.95      5437\n",
            "\n"
          ]
        },
        {
          "output_type": "execute_result",
          "data": {
            "text/plain": [
              "['count_vectorizer_70.pkl']"
            ]
          },
          "metadata": {},
          "execution_count": 24
        }
      ]
    },
    {
      "cell_type": "markdown",
      "source": [
        "Model yang dilatih dengan menggunakan CountVectorizer dan Logistic Regression menunjukkan performa yang sangat tinggi pada data pelatihan. Dengan akurasi 100% dan nilai precision, recall, serta f1-score yang hampir sempurna di ketiga kelas, model tampak sangat kuat dalam mempelajari pola dari data latih. Ini menandakan bahwa model berhasil mengoptimalkan representasi kata dari CountVectorizer dan mampu memetakan dengan baik ke masing-masing label.\n",
        "\n",
        "Namun, saat diuji pada data testing, performa model menurun secara signifikan pada kelas negatif. Akurasi total masih tinggi di angka 95%, tetapi f1-score untuk kelas negatif hanya 0.39. Sebaliknya, model tetap sangat baik dalam mengenali kelas positif, dengan f1-score mencapai 0.98. Hal ini mengindikasikan bahwa model mengalami overfitting dan kesulitan dalam melakukan generalisasi, terutama terhadap kelas minoritas seperti `negative`."
      ],
      "metadata": {
        "id": "sb3Ex5gqMfYs"
      }
    },
    {
      "cell_type": "markdown",
      "source": [
        "## Inference"
      ],
      "metadata": {
        "id": "oB4w5iZrzwuk"
      }
    },
    {
      "cell_type": "code",
      "source": [
        "new_text = [\"i had a great experience, the customer service was amazing\"]"
      ],
      "metadata": {
        "id": "cG96QzTpMy8u"
      },
      "execution_count": 38,
      "outputs": []
    },
    {
      "cell_type": "code",
      "source": [
        "## Inference Contoh (Skema 2: MLP)\n",
        "new_text_vec = tfidf.transform(new_text).toarray()\n",
        "mlp_model_loaded = tf.keras.models.load_model('model_dense_layer.h5')\n",
        "pred_class = mlp_model_loaded.predict(new_text_vec)\n",
        "pred_label = le.classes_[np.argmax(pred_class)]\n",
        "print(f\"Prediksi (MLP): {pred_label}\")"
      ],
      "metadata": {
        "colab": {
          "base_uri": "https://localhost:8080/"
        },
        "id": "y0C0hiUBwKKq",
        "outputId": "b925a86e-95c9-4579-ccbc-212a359bea39"
      },
      "execution_count": 43,
      "outputs": [
        {
          "output_type": "stream",
          "name": "stderr",
          "text": [
            "WARNING:absl:Compiled the loaded model, but the compiled metrics have yet to be built. `model.compile_metrics` will be empty until you train or evaluate the model.\n"
          ]
        },
        {
          "output_type": "stream",
          "name": "stdout",
          "text": [
            "\u001b[1m1/1\u001b[0m \u001b[32m━━━━━━━━━━━━━━━━━━━━\u001b[0m\u001b[37m\u001b[0m \u001b[1m0s\u001b[0m 181ms/step\n",
            "Prediksi (MLP): positive\n"
          ]
        }
      ]
    },
    {
      "cell_type": "code",
      "source": [
        "## Inference Contoh (Skema 1: TF-IDF + Logistic Regression)\n",
        "logistic_loaded_model = tf.keras.models.load_model('model_logistic_regression.h5')\n",
        "log_pred = logistic_loaded_model.predict(new_text_vec)\n",
        "pred_label_log = le.classes_[np.argmax(log_pred)]\n",
        "print(f\"Prediksi (LogReg): {pred_label_log}\")"
      ],
      "metadata": {
        "colab": {
          "base_uri": "https://localhost:8080/"
        },
        "id": "znZhKWH40tuO",
        "outputId": "fb7db6b6-bd0d-4a2b-cf02-87f322d4aae1"
      },
      "execution_count": 44,
      "outputs": [
        {
          "output_type": "stream",
          "name": "stderr",
          "text": [
            "WARNING:absl:No training configuration found in the save file, so the model was *not* compiled. Compile it manually.\n"
          ]
        },
        {
          "output_type": "stream",
          "name": "stdout",
          "text": [
            "\u001b[1m1/1\u001b[0m \u001b[32m━━━━━━━━━━━━━━━━━━━━\u001b[0m\u001b[37m\u001b[0m \u001b[1m0s\u001b[0m 63ms/step\n",
            "Prediksi (LogReg): positive\n"
          ]
        }
      ]
    },
    {
      "cell_type": "code",
      "source": [
        "# Skema 3 (CountVectorizer + Logistic Regression)\n",
        "# Load model dan vectorizer\n",
        "loaded_model = joblib.load('model_lr_count_70.pkl')\n",
        "loaded_vectorizer = joblib.load('count_vectorizer_70.pkl')\n",
        "\n",
        "# Transform dan prediksi\n",
        "new_text_transformed = loaded_vectorizer.transform(new_text)\n",
        "pred_count = loaded_model.predict(new_text_transformed)\n",
        "\n",
        "print(f\"\\nPrediksi (CountVec + LogReg): {pred_count[0]}\")"
      ],
      "metadata": {
        "colab": {
          "base_uri": "https://localhost:8080/"
        },
        "id": "faK6dNWFzIgW",
        "outputId": "774d0302-c90b-43f3-a25c-0f36b4b6334a"
      },
      "execution_count": 46,
      "outputs": [
        {
          "output_type": "stream",
          "name": "stdout",
          "text": [
            "\n",
            "Prediksi (CountVec + LogReg): positive\n"
          ]
        }
      ]
    },
    {
      "cell_type": "markdown",
      "source": [
        "Pada tahap inference, ketiga model—baik MLP (Skema 2), Logistic Regression dengan TF-IDF (Skema 1), maupun Logistic Regression dengan CountVectorizer (Skema 3)—mampu memprediksi label dari input teks baru \"**i had a great experience, the customer service was amazing**\" dengan hasil yang konsisten, yaitu \"positive\". Teks terlebih dahulu diubah ke bentuk numerik menggunakan TF-IDF atau CountVectorizer, kemudian dimasukkan ke model yang telah dilatih dan disimpan sebelumnya. Proses ini menunjukkan bahwa ketiga model dapat digunakan untuk klasifikasi teks secara langsung setelah pelatihan, meskipun muncul beberapa peringatan teknis terkait format penyimpanan model, yang tidak mempengaruhi hasil prediksi."
      ],
      "metadata": {
        "id": "aH_rSTdVNlA0"
      }
    }
  ]
}